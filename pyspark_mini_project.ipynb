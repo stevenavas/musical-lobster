{
 "cells": [
  {
   "cell_type": "markdown",
   "metadata": {},
   "source": [
    "### Import modules"
   ]
  },
  {
   "cell_type": "code",
   "execution_count": 1,
   "metadata": {},
   "outputs": [],
   "source": [
    "from pyspark.sql import SparkSession\n",
    "import pyspark.sql.functions as F"
   ]
  },
  {
   "cell_type": "markdown",
   "metadata": {},
   "source": [
    "### Create Spark Session"
   ]
  },
  {
   "cell_type": "code",
   "execution_count": 5,
   "metadata": {},
   "outputs": [],
   "source": [
    "spark_session = SparkSession.builder.appName(\"Post_Season\").getOrCreate()"
   ]
  },
  {
   "cell_type": "markdown",
   "metadata": {},
   "source": [
    "### Create the Spark DataFrame"
   ]
  },
  {
   "cell_type": "code",
   "execution_count": 6,
   "metadata": {},
   "outputs": [],
   "source": [
    "df = spark_session.read.csv(\"BattingPost.csv\", inferSchema=True, header=True)"
   ]
  },
  {
   "cell_type": "markdown",
   "metadata": {},
   "source": [
    "### View inside csv file"
   ]
  },
  {
   "cell_type": "code",
   "execution_count": 7,
   "metadata": {},
   "outputs": [
    {
     "name": "stdout",
     "output_type": "stream",
     "text": [
      "root\n",
      " |-- yearID: integer (nullable = true)\n",
      " |-- round: string (nullable = true)\n",
      " |-- playerID: string (nullable = true)\n",
      " |-- teamID: string (nullable = true)\n",
      " |-- lgID: string (nullable = true)\n",
      " |-- G: integer (nullable = true)\n",
      " |-- AB: integer (nullable = true)\n",
      " |-- R: integer (nullable = true)\n",
      " |-- H: integer (nullable = true)\n",
      " |-- 2B: integer (nullable = true)\n",
      " |-- 3B: integer (nullable = true)\n",
      " |-- HR: integer (nullable = true)\n",
      " |-- RBI: integer (nullable = true)\n",
      " |-- SB: integer (nullable = true)\n",
      " |-- CS: integer (nullable = true)\n",
      " |-- BB: integer (nullable = true)\n",
      " |-- SO: integer (nullable = true)\n",
      " |-- IBB: integer (nullable = true)\n",
      " |-- HBP: integer (nullable = true)\n",
      " |-- SH: integer (nullable = true)\n",
      " |-- SF: integer (nullable = true)\n",
      " |-- GIDP: integer (nullable = true)\n",
      "\n"
     ]
    }
   ],
   "source": [
    "df.printSchema()"
   ]
  },
  {
   "cell_type": "markdown",
   "metadata": {},
   "source": [
    "### Apply a filter"
   ]
  },
  {
   "cell_type": "code",
   "execution_count": 9,
   "metadata": {},
   "outputs": [
    {
     "name": "stdout",
     "output_type": "stream",
     "text": [
      "+------+-----+---------+------+----+---+---+---+---+---+---+---+---+---+----+---+---+---+----+----+----+----+\n",
      "|yearID|round| playerID|teamID|lgID|  G| AB|  R|  H| 2B| 3B| HR|RBI| SB|  CS| BB| SO|IBB| HBP|  SH|  SF|GIDP|\n",
      "+------+-----+---------+------+----+---+---+---+---+---+---+---+---+---+----+---+---+---+----+----+----+----+\n",
      "|  1885|   WS|ansonca01|   CHN|  NL|  7| 26|  8| 11|  1|  1|  0|  0|  0|null|  2|  0|  0|null|null|null|null|\n",
      "|  1885|   WS|pfefffr01|   CHN|  NL|  7| 27|  5| 11|  2|  0|  1|  0|  0|null|  0|  0|  0|null|null|null|null|\n",
      "|  1887|   WS|bennech01|   DTN|  NL| 11| 42|  6| 11|  2|  1|  0|  9|  5|null|  3|  5|  0|null|null|null|null|\n",
      "|  1887|   WS|carutbo01|   SL4|  AA| 10| 46|  2| 11|  0|  0|  0|  3|  3|null|  1|  1|  0|null|null|null|null|\n",
      "|  1887|   WS|comisch01|   SL4|  AA| 15| 62|  8| 19|  2|  0|  0|  5|  4|null|  1|  1|  0|null|null|null|null|\n",
      "|  1887|   WS|ganzech01|   DTN|  NL| 14| 58|  5| 13|  1|  0|  0|  2|  3|null|  1|  2|  0|null|null|null|null|\n",
      "|  1887|   WS|hanlone01|   DTN|  NL| 15| 50|  5| 11|  1|  1|  0|  4|  7|null|  5|  1|  0|null|null|null|null|\n",
      "|  1887|   WS|lathaar01|   SL4|  AA| 15| 58| 12| 17|  1|  0|  0|  2| 15|null|  9|  2|  0|null|null|null|null|\n",
      "|  1887|   WS|oneilti01|   SL4|  AA| 15| 65|  7| 13|  2|  1|  1|  9|  0|null|  0|  2|  0|null|null|null|null|\n",
      "|  1887|   WS|richaha01|   DTN|  NL| 15| 66| 12| 13|  5|  2|  1|  4|  7|null|  1|  9|  0|null|null|null|null|\n",
      "|  1887|   WS|robinya01|   SL4|  AA| 15| 46|  5| 15|  5|  1|  0|  4|  4|null| 10|  6|  0|null|null|null|null|\n",
      "|  1887|   WS| roweja01|   DTN|  NL| 15| 63| 12| 21|  1|  1|  0|  7|  5|null|  2|  1|  0|null|null|null|null|\n",
      "|  1887|   WS|thompsa01|   DTN|  NL| 15| 58|  8| 21|  2|  0|  2|  7|  5|null|  3|  3|  0|null|null|null|null|\n",
      "|  1887|   WS|welchcu01|   SL4|  AA| 15| 58|  6| 12|  3|  1|  1|  8|  1|null|  0|  2|  0|null|null|null|null|\n",
      "|  1887|   WS|whitede01|   DTN|  NL| 15| 58|  8| 12|  1|  1|  0|  3|  2|null|  2|  0|  0|null|null|null|null|\n",
      "|  1888|   WS|comisch01|   SL4|  AA| 10| 41|  6| 11|  1|  1|  0|  3|  4|null|  1|  1|  0|null|null|null|null|\n",
      "|  1888|   WS|tiernmi01|   NY1|  NL| 10| 38|  8| 13|  0|  0|  1|  6|  5|null|  8|  2|  0|null|null|null|null|\n",
      "|  1888|   WS| wardjo01|   NY1|  NL|  8| 29|  4| 11|  1|  0|  0|  6|  6|null|  1|  0|  0|null|null|null|null|\n",
      "|  1888|   WS|whitnar01|   NY1|  NL| 10| 37|  7| 12|  0|  1|  0| 12|  2|null|  1|  4|  0|null|null|null|null|\n",
      "|  1889|   WS|collihu01|   BR3|  AA|  9| 35| 13| 13|  3|  0|  1|  2|  6|null|  7|  5|  0|null|null|null|null|\n",
      "+------+-----+---------+------+----+---+---+---+---+---+---+---+---+---+----+---+---+---+----+----+----+----+\n",
      "only showing top 20 rows\n",
      "\n"
     ]
    }
   ],
   "source": [
    "df.filter(df['H']>10).show()"
   ]
  },
  {
   "cell_type": "markdown",
   "metadata": {},
   "source": [
    "### Another one"
   ]
  },
  {
   "cell_type": "code",
   "execution_count": 10,
   "metadata": {},
   "outputs": [
    {
     "name": "stdout",
     "output_type": "stream",
     "text": [
      "+------+-----+---------+------+----+---+---+---+---+---+---+---+---+---+---+---+---+---+---+---+---+----+\n",
      "|yearID|round| playerID|teamID|lgID|  G| AB|  R|  H| 2B| 3B| HR|RBI| SB| CS| BB| SO|IBB|HBP| SH| SF|GIDP|\n",
      "+------+-----+---------+------+----+---+---+---+---+---+---+---+---+---+---+---+---+---+---+---+---+----+\n",
      "|  1926|   WS| ruthba01|   NYA|  AL|  7| 20|  6|  6|  0|  0|  4|  5|  1|  1| 11|  2|  1|  0|  0|  0|   0|\n",
      "|  1928|   WS|gehrilo01|   NYA|  AL|  4| 11|  5|  6|  1|  0|  4|  9|  0|  0|  6|  0|  0|  0|  0|  0|   0|\n",
      "|  1952|   WS|snidedu01|   BRO|  NL|  7| 29|  5| 10|  2|  0|  4|  8|  1|  0|  1|  5|  0|  1|  0|  0|   1|\n",
      "|  1955|   WS|snidedu01|   BRO|  NL|  7| 25|  5|  8|  1|  0|  4|  7|  0|  0|  2|  6|  1|  0|  1|  0|   0|\n",
      "|  1958|   WS|bauerha01|   NYA|  AL|  7| 31|  6| 10|  0|  0|  4|  8|  0|  0|  0|  5|  0|  0|  0|  0|   1|\n",
      "|  1971| NLCS|roberbo01|   PIT|  NL|  4| 16|  5|  7|  1|  0|  4|  6|  0|  0|  0|  2|  0|  0|  0|  0|   0|\n",
      "|  1972|   WS|tenacge01|   OAK|  AL|  7| 23|  5|  8|  1|  0|  4|  9|  0|  0|  2|  4|  1|  0|  0|  0|   0|\n",
      "|  1977|   WS|jacksre01|   NYA|  AL|  6| 20| 10|  9|  1|  0|  5|  8|  0|  0|  3|  4|  0|  1|  0|  0|   1|\n",
      "|  1978| NLCS|garvest01|   LAN|  NL|  4| 18|  6|  7|  1|  1|  4|  7|  0|  1|  0|  1|  0|  0|  0|  0|   0|\n",
      "|  1980|   WS|aikenwi01|   KCA|  AL|  6| 20|  5|  8|  0|  1|  4|  8|  0|  0|  6|  8|  0|  0|  0|  0|   0|\n",
      "|  1987| NLCS|leonaje01|   SFN|  NL|  7| 24|  5| 10|  0|  0|  4|  5|  0|  0|  3|  4|  0|  1|  0|  0|   0|\n",
      "|  1993|   WS|dykstle01|   PHI|  NL|  6| 23|  9|  8|  1|  0|  4|  8|  4|  0|  7|  4|  1|  0|  0|  0|   0|\n",
      "|  1995|ALDS2|griffke02|   SEA|  AL|  5| 23|  9|  9|  0|  0|  5|  7|  1|  0|  2|  4|  1|  1|  0|  1|   0|\n",
      "|  1996|ALDS2|gonzaju03|   TEX|  AL|  4| 16|  5|  7|  0|  0|  5|  9|  0|  0|  3|  2|  1|  0|  0|  0|   0|\n",
      "|  1998| ALCS|thomeji01|   CLE|  AL|  6| 23|  4|  7|  0|  0|  4|  8|  0|  0|  1|  8|  0|  1|  0|  0|   0|\n",
      "|  1999|ALDS1|thomeji01|   CLE|  AL|  5| 17|  7|  6|  0|  0|  4| 10|  0|  0|  4|  5|  0|  0|  0|  0|   0|\n",
      "|  2002|   WS|bondsba01|   SFN|  NL|  7| 17|  8|  8|  2|  0|  4|  6|  0|  0| 13|  3|  7|  0|  0|  0|   0|\n",
      "|  2004| NLCS|beltrca01|   HOU|  NL|  7| 24| 12| 10|  1|  0|  4|  5|  4|  0|  8|  4|  1|  0|  0|  0|   0|\n",
      "|  2004|NLDS2|beltrca01|   HOU|  NL|  5| 22|  9| 10|  2|  0|  4|  9|  2|  0|  1|  4|  0|  1|  0|  0|   0|\n",
      "|  2004| NLCS|pujolal01|   SLN|  NL|  7| 28| 10| 14|  2|  0|  4|  9|  0|  0|  4|  3|  0|  0|  0|  0|   0|\n",
      "+------+-----+---------+------+----+---+---+---+---+---+---+---+---+---+---+---+---+---+---+---+---+----+\n",
      "only showing top 20 rows\n",
      "\n"
     ]
    }
   ],
   "source": [
    "df.filter(df.HR > 3).show()"
   ]
  },
  {
   "cell_type": "markdown",
   "metadata": {},
   "source": [
    "### Groupby example"
   ]
  },
  {
   "cell_type": "code",
   "execution_count": 11,
   "metadata": {},
   "outputs": [
    {
     "name": "stdout",
     "output_type": "stream",
     "text": [
      "+------+---------+---+---+-----+\n",
      "|yearID| playerID|  H| AB|count|\n",
      "+------+---------+---+---+-----+\n",
      "|  2018|chaveje01|  0|  0|    1|\n",
      "|  2018|gomesya01|  2|  8|    1|\n",
      "|  2018| shawtr01|  4| 19|    1|\n",
      "|  2018|tayloch03|  8| 22|    1|\n",
      "|  2018|lestejo01|  0|  1|    1|\n",
      "|  2018|reddijo01|  3| 16|    1|\n",
      "|  2018|pearcst01|  4| 12|    2|\n",
      "|  2018|betande01|  0|  0|    2|\n",
      "|  2018|pederjo01|  4| 14|    1|\n",
      "|  2018|altuvjo01|  4| 14|    1|\n",
      "|  2018|mileywa01|  2|  4|    1|\n",
      "|  2018|kershcl01|  0|  2|    1|\n",
      "|  2018|freesda01|  2|  8|    1|\n",
      "|  2018|newcose01|  0|  0|    1|\n",
      "|  2018|mileywa01|  0|  2|    1|\n",
      "|  2018|heywaja01|  0|  3|    1|\n",
      "|  2018|friedma01|  0|  0|    1|\n",
      "|  2018|arciaor01|  9| 25|    1|\n",
      "|  2018|hollima01|  1|  5|    1|\n",
      "|  2018|vazquch01|  2| 13|    1|\n",
      "+------+---------+---+---+-----+\n",
      "only showing top 20 rows\n",
      "\n"
     ]
    }
   ],
   "source": [
    "df.groupBy([\"yearID\",\"playerID\",\"H\", \"AB\"]).count().orderBy(F.desc('yearID')).show()"
   ]
  },
  {
   "cell_type": "markdown",
   "metadata": {},
   "source": [
    "### SQL Quieres"
   ]
  },
  {
   "cell_type": "markdown",
   "metadata": {},
   "source": [
    "### Make temporary table from a query"
   ]
  },
  {
   "cell_type": "code",
   "execution_count": 12,
   "metadata": {},
   "outputs": [],
   "source": [
    "df.createOrReplaceTempView(\"Post_Season_Batting\")"
   ]
  },
  {
   "cell_type": "code",
   "execution_count": 13,
   "metadata": {
    "scrolled": true
   },
   "outputs": [
    {
     "name": "stdout",
     "output_type": "stream",
     "text": [
      "+------+-----+---------+------+----+---+---+---+---+---+---+---+---+---+---+---+---+---+---+---+---+----+\n",
      "|yearID|round| playerID|teamID|lgID|  G| AB|  R|  H| 2B| 3B| HR|RBI| SB| CS| BB| SO|IBB|HBP| SH| SF|GIDP|\n",
      "+------+-----+---------+------+----+---+---+---+---+---+---+---+---+---+---+---+---+---+---+---+---+----+\n",
      "|  1977|   WS|jacksre01|   NYA|  AL|  6| 20| 10|  9|  1|  0|  5|  8|  0|  0|  3|  4|  0|  1|  0|  0|   1|\n",
      "|  2009|   WS|utleych01|   PHI|  NL|  6| 21|  7|  6|  1|  0|  5|  8|  1|  0|  4|  5|  1|  0|  0|  0|   2|\n",
      "|  2017|   WS|springe01|   HOU|  AL|  7| 29|  8| 11|  3|  0|  5|  7|  0|  0|  5|  8|  1|  0|  0|  0|   0|\n",
      "+------+-----+---------+------+----+---+---+---+---+---+---+---+---+---+---+---+---+---+---+---+---+----+\n",
      "\n"
     ]
    }
   ],
   "source": [
    "spark_session.sql(\"\"\"\n",
    "\n",
    "    SELECT \n",
    "    *\n",
    "    FROM \n",
    "    Post_Season_Batting\n",
    "    WHERE\n",
    "    AB > 10\n",
    "    AND\n",
    "    ROUND = 'WS'\n",
    "    AND\n",
    "    HR > 4\n",
    "    AND\n",
    "    YEARID > 1950\n",
    "    ORDER BY \n",
    "    YEARID\n",
    "\"\"\").show()"
   ]
  },
  {
   "cell_type": "markdown",
   "metadata": {},
   "source": [
    "### Now use matplotlib for some graphics"
   ]
  },
  {
   "cell_type": "code",
   "execution_count": 14,
   "metadata": {},
   "outputs": [],
   "source": [
    "%matplotlib inline"
   ]
  },
  {
   "cell_type": "code",
   "execution_count": 15,
   "metadata": {},
   "outputs": [
    {
     "data": {
      "text/plain": [
       "<matplotlib.axes._subplots.AxesSubplot at 0x7feb744110b8>"
      ]
     },
     "execution_count": 15,
     "metadata": {},
     "output_type": "execute_result"
    },
    {
     "data": {
      "image/png": "[encoded data removed]",
      "text/plain": [
       "<Figure size 432x288 with 1 Axes>"
      ]
     },
     "metadata": {
      "needs_background": "light"
     },
     "output_type": "display_data"
    }
   ],
   "source": [
    "df[df.lgID == 'AL'].groupBy('teamID').sum('H').toPandas().plot(\n",
    "x = 'teamID',\n",
    "y = 'sum(H)',\n",
    "kind = \"bar\"\n",
    ")"
   ]
  },
  {
   "cell_type": "code",
   "execution_count": 16,
   "metadata": {
    "scrolled": true
   },
   "outputs": [
    {
     "data": {
      "text/plain": [
       "<matplotlib.axes._subplots.AxesSubplot at 0x7f32d64d4710>"
      ]
     },
     "execution_count": 16,
     "metadata": {},
     "output_type": "execute_result"
    },
    {
     "data": {
      "image/png": "[encoded data removed]",
      "text/plain": [
       "<Figure size 432x288 with 1 Axes>"
      ]
     },
     "metadata": {
      "needs_background": "light"
     },
     "output_type": "display_data"
    }
   ],
   "source": [
    "df.groupBy(\"AB\").sum(\"H\").toPandas().plot(\n",
    "    x = \"AB\",\n",
    "    y = \"sum(H)\",\n",
    "    kind = \"scatter\"\n",
    ")"
   ]
  },
  {
   "cell_type": "markdown",
   "metadata": {},
   "source": [
    "### Random EDA"
   ]
  },
  {
   "cell_type": "code",
   "execution_count": 17,
   "metadata": {},
   "outputs": [
    {
     "name": "stdout",
     "output_type": "stream",
     "text": [
      "+-------+------------------+\n",
      "|summary|                 H|\n",
      "+-------+------------------+\n",
      "|  count|               816|\n",
      "|   mean|1.9938725490196079|\n",
      "| stddev| 2.766799076948411|\n",
      "|    min|                 0|\n",
      "|    max|                14|\n",
      "+-------+------------------+\n",
      "\n"
     ]
    }
   ],
   "source": [
    "df[df.teamID == 'BOS'].describe('H').show()"
   ]
  },
  {
   "cell_type": "code",
   "execution_count": 18,
   "metadata": {},
   "outputs": [
    {
     "name": "stdout",
     "output_type": "stream",
     "text": [
      "+------------------+-----------+-------+\n",
      "|            avg(H)|min(yearID)|max(AB)|\n",
      "+------------------+-----------+-------+\n",
      "|1.8612930193674238|       1884|     66|\n",
      "+------------------+-----------+-------+\n",
      "\n"
     ]
    }
   ],
   "source": [
    "df.select([F.mean('H'), F.min('yearID'), F.max('AB')]).show()"
   ]
  },
  {
   "cell_type": "code",
   "execution_count": 19,
   "metadata": {},
   "outputs": [
    {
     "data": {
      "text/plain": [
       "0.6878772473914809"
      ]
     },
     "execution_count": 19,
     "metadata": {},
     "output_type": "execute_result"
    }
   ],
   "source": [
    "df.stat.cov('H', \"HR\")"
   ]
  },
  {
   "cell_type": "code",
   "execution_count": 20,
   "metadata": {},
   "outputs": [
    {
     "data": {
      "text/plain": [
       "0.496207226481733"
      ]
     },
     "execution_count": 20,
     "metadata": {},
     "output_type": "execute_result"
    }
   ],
   "source": [
    "df.stat.corr('H',\"HR\")"
   ]
  },
  {
   "cell_type": "markdown",
   "metadata": {},
   "source": [
    "### Add Batting Average to end of table"
   ]
  },
  {
   "cell_type": "code",
   "execution_count": 23,
   "metadata": {},
   "outputs": [],
   "source": [
    "df1 = df.withColumn('BA', df['H'] / df['AB'])"
   ]
  },
  {
   "cell_type": "code",
   "execution_count": 25,
   "metadata": {},
   "outputs": [
    {
     "name": "stdout",
     "output_type": "stream",
     "text": [
      "+------+-----+---------+------+----+---+---+---+---+---+---+---+---+---+----+---+---+---+----+----+----+----+------------------+\n",
      "|yearID|round| playerID|teamID|lgID|  G| AB|  R|  H| 2B| 3B| HR|RBI| SB|  CS| BB| SO|IBB| HBP|  SH|  SF|GIDP|                BA|\n",
      "+------+-----+---------+------+----+---+---+---+---+---+---+---+---+---+----+---+---+---+----+----+----+----+------------------+\n",
      "|  1884|   WS|becanbu01|   NY4|  AA|  1|  2|  0|  1|  0|  0|  0|  0|  0|null|  0|  0|  0|null|null|null|null|               0.5|\n",
      "|  1884|   WS|bradyst01|   NY4|  AA|  3| 10|  1|  0|  0|  0|  0|  0|  0|null|  0|  1|  0|null|null|null|null|               0.0|\n",
      "|  1884|   WS|carrocl01|   PRO|  NL|  3| 10|  2|  1|  0|  0|  0|  1|  0|null|  1|  1|  0|null|null|null|null|               0.1|\n",
      "|  1884|   WS|dennyje01|   PRO|  NL|  3|  9|  3|  4|  0|  1|  1|  2|  0|null|  0|  3|  0|null|null|null|null|0.4444444444444444|\n",
      "|  1884|   WS|esterdu01|   NY4|  AA|  3| 10|  0|  3|  1|  0|  0|  0|  1|null|  0|  3|  0|null|null|null|null|               0.3|\n",
      "|  1884|   WS|farreja02|   PRO|  NL|  3|  9|  3|  4|  2|  0|  0|  0|  1|null|  0|  0|  0|null|null|null|null|0.4444444444444444|\n",
      "|  1884|   WS|forstto01|   NY4|  AA|  1|  3|  0|  0|  0|  0|  0|  0|  0|null|  0|  1|  0|null|null|null|null|               0.0|\n",
      "|  1884|   WS|gilliba01|   PRO|  NL|  3|  9|  3|  4|  2|  0|  0|  2|  0|null|  0|  1|  0|null|null|null|null|0.4444444444444444|\n",
      "|  1884|   WS|hinespa01|   PRO|  NL|  3|  8|  5|  2|  0|  0|  0|  1|  2|null|  3|  0|  0|null|null|null|null|              0.25|\n",
      "|  1884|   WS|irwinar01|   PRO|  NL|  3|  9|  3|  2|  0|  1|  0|  2|  0|null|  0|  2|  0|null|null|null|null|0.2222222222222222|\n",
      "|  1884|   WS|keefeti01|   NY4|  AA|  2|  5|  0|  1|  0|  0|  0|  0|  0|null|  0|  4|  0|null|null|null|null|               0.2|\n",
      "|  1884|   WS|kenneed01|   NY4|  AA|  3|  7|  0|  0|  0|  0|  0|  0|  0|null|  0|  2|  0|null|null|null|null|               0.0|\n",
      "|  1884|   WS|nelsoca01|   NY4|  AA|  3| 10|  0|  1|  0|  0|  0|  0|  0|null|  0|  1|  0|null|null|null|null|               0.1|\n",
      "|  1884|   WS|  orrda01|   NY4|  AA|  3|  9|  0|  1|  0|  0|  0|  0|  0|null|  0|  0|  0|null|null|null|null|0.1111111111111111|\n",
      "|  1884|   WS|radboch01|   PRO|  NL|  3| 10|  1|  1|  0|  0|  0|  2|  0|null|  1|  3|  0|null|null|null|null|               0.1|\n",
      "|  1884|   WS|radfopa01|   PRO|  NL|  3|  7|  1|  0|  0|  0|  0|  1|  0|null|  0|  1|  0|null|null|null|null|               0.0|\n",
      "|  1884|   WS|reipsch01|   NY4|  AA|  2|  5|  1|  0|  0|  0|  0|  0|  0|null|  0|  1|  0|null|null|null|null|               0.0|\n",
      "|  1884|   WS|rosemch01|   NY4|  AA|  3|  9|  1|  3|  0|  0|  0|  1|  0|null|  0|  1|  0|null|null|null|null|0.3333333333333333|\n",
      "|  1884|   WS|startjo01|   PRO|  NL|  3| 10|  0|  1|  0|  0|  0|  1|  0|null|  0|  2|  0|null|null|null|null|               0.1|\n",
      "|  1884|   WS| troyda01|   NY4|  AA|  2|  5|  0|  1|  0|  0|  0|  1|  0|null|  0|  1|  0|null|null|null|null|               0.2|\n",
      "+------+-----+---------+------+----+---+---+---+---+---+---+---+---+---+----+---+---+---+----+----+----+----+------------------+\n",
      "only showing top 20 rows\n",
      "\n"
     ]
    }
   ],
   "source": [
    "df1.show()"
   ]
  },
  {
   "cell_type": "code",
   "execution_count": 16,
   "metadata": {},
   "outputs": [],
   "source": [
    "df1 = df.withColumn('X1B', df['H'] - df['2B'] - df['3B'] - df['HR'])"
   ]
  },
  {
   "cell_type": "code",
   "execution_count": 18,
   "metadata": {},
   "outputs": [],
   "source": [
    "df1 = df.withColumn('TB', df['H'] - (df['2B']*2) + (df['3B']*3) + (df['HR']*4))"
   ]
  },
  {
   "cell_type": "code",
   "execution_count": 19,
   "metadata": {},
   "outputs": [
    {
     "name": "stdout",
     "output_type": "stream",
     "text": [
      "+------+-----+---------+------+----+---+---+---+---+---+---+---+---+---+----+---+---+---+----+----+----+----+---+\n",
      "|yearID|round| playerID|teamID|lgID|  G| AB|  R|  H| 2B| 3B| HR|RBI| SB|  CS| BB| SO|IBB| HBP|  SH|  SF|GIDP| TB|\n",
      "+------+-----+---------+------+----+---+---+---+---+---+---+---+---+---+----+---+---+---+----+----+----+----+---+\n",
      "|  1884|   WS|becanbu01|   NY4|  AA|  1|  2|  0|  1|  0|  0|  0|  0|  0|null|  0|  0|  0|null|null|null|null|  1|\n",
      "|  1884|   WS|bradyst01|   NY4|  AA|  3| 10|  1|  0|  0|  0|  0|  0|  0|null|  0|  1|  0|null|null|null|null|  0|\n",
      "|  1884|   WS|carrocl01|   PRO|  NL|  3| 10|  2|  1|  0|  0|  0|  1|  0|null|  1|  1|  0|null|null|null|null|  1|\n",
      "|  1884|   WS|dennyje01|   PRO|  NL|  3|  9|  3|  4|  0|  1|  1|  2|  0|null|  0|  3|  0|null|null|null|null| 11|\n",
      "|  1884|   WS|esterdu01|   NY4|  AA|  3| 10|  0|  3|  1|  0|  0|  0|  1|null|  0|  3|  0|null|null|null|null|  1|\n",
      "|  1884|   WS|farreja02|   PRO|  NL|  3|  9|  3|  4|  2|  0|  0|  0|  1|null|  0|  0|  0|null|null|null|null|  0|\n",
      "|  1884|   WS|forstto01|   NY4|  AA|  1|  3|  0|  0|  0|  0|  0|  0|  0|null|  0|  1|  0|null|null|null|null|  0|\n",
      "|  1884|   WS|gilliba01|   PRO|  NL|  3|  9|  3|  4|  2|  0|  0|  2|  0|null|  0|  1|  0|null|null|null|null|  0|\n",
      "|  1884|   WS|hinespa01|   PRO|  NL|  3|  8|  5|  2|  0|  0|  0|  1|  2|null|  3|  0|  0|null|null|null|null|  2|\n",
      "|  1884|   WS|irwinar01|   PRO|  NL|  3|  9|  3|  2|  0|  1|  0|  2|  0|null|  0|  2|  0|null|null|null|null|  5|\n",
      "|  1884|   WS|keefeti01|   NY4|  AA|  2|  5|  0|  1|  0|  0|  0|  0|  0|null|  0|  4|  0|null|null|null|null|  1|\n",
      "|  1884|   WS|kenneed01|   NY4|  AA|  3|  7|  0|  0|  0|  0|  0|  0|  0|null|  0|  2|  0|null|null|null|null|  0|\n",
      "|  1884|   WS|nelsoca01|   NY4|  AA|  3| 10|  0|  1|  0|  0|  0|  0|  0|null|  0|  1|  0|null|null|null|null|  1|\n",
      "|  1884|   WS|  orrda01|   NY4|  AA|  3|  9|  0|  1|  0|  0|  0|  0|  0|null|  0|  0|  0|null|null|null|null|  1|\n",
      "|  1884|   WS|radboch01|   PRO|  NL|  3| 10|  1|  1|  0|  0|  0|  2|  0|null|  1|  3|  0|null|null|null|null|  1|\n",
      "|  1884|   WS|radfopa01|   PRO|  NL|  3|  7|  1|  0|  0|  0|  0|  1|  0|null|  0|  1|  0|null|null|null|null|  0|\n",
      "|  1884|   WS|reipsch01|   NY4|  AA|  2|  5|  1|  0|  0|  0|  0|  0|  0|null|  0|  1|  0|null|null|null|null|  0|\n",
      "|  1884|   WS|rosemch01|   NY4|  AA|  3|  9|  1|  3|  0|  0|  0|  1|  0|null|  0|  1|  0|null|null|null|null|  3|\n",
      "|  1884|   WS|startjo01|   PRO|  NL|  3| 10|  0|  1|  0|  0|  0|  1|  0|null|  0|  2|  0|null|null|null|null|  1|\n",
      "|  1884|   WS| troyda01|   NY4|  AA|  2|  5|  0|  1|  0|  0|  0|  1|  0|null|  0|  1|  0|null|null|null|null|  1|\n",
      "+------+-----+---------+------+----+---+---+---+---+---+---+---+---+---+----+---+---+---+----+----+----+----+---+\n",
      "only showing top 20 rows\n",
      "\n"
     ]
    }
   ],
   "source": [
    "df1.show()"
   ]
  },
  {
   "cell_type": "code",
   "execution_count": 20,
   "metadata": {},
   "outputs": [],
   "source": [
    "df1 = df.withColumn('PA', df[\"AB\"] + df['HBP'] + df['BB'] + df['SF'])"
   ]
  },
  {
   "cell_type": "code",
   "execution_count": 22,
   "metadata": {},
   "outputs": [
    {
     "name": "stdout",
     "output_type": "stream",
     "text": [
      "+------+-----+---------+------+----+---+---+---+---+---+---+---+---+---+----+---+---+---+----+----+----+----+----+\n",
      "|yearID|round| playerID|teamID|lgID|  G| AB|  R|  H| 2B| 3B| HR|RBI| SB|  CS| BB| SO|IBB| HBP|  SH|  SF|GIDP|  PA|\n",
      "+------+-----+---------+------+----+---+---+---+---+---+---+---+---+---+----+---+---+---+----+----+----+----+----+\n",
      "|  1884|   WS|becanbu01|   NY4|  AA|  1|  2|  0|  1|  0|  0|  0|  0|  0|null|  0|  0|  0|null|null|null|null|null|\n",
      "|  1884|   WS|bradyst01|   NY4|  AA|  3| 10|  1|  0|  0|  0|  0|  0|  0|null|  0|  1|  0|null|null|null|null|null|\n",
      "|  1884|   WS|carrocl01|   PRO|  NL|  3| 10|  2|  1|  0|  0|  0|  1|  0|null|  1|  1|  0|null|null|null|null|null|\n",
      "|  1884|   WS|dennyje01|   PRO|  NL|  3|  9|  3|  4|  0|  1|  1|  2|  0|null|  0|  3|  0|null|null|null|null|null|\n",
      "|  1884|   WS|esterdu01|   NY4|  AA|  3| 10|  0|  3|  1|  0|  0|  0|  1|null|  0|  3|  0|null|null|null|null|null|\n",
      "|  1884|   WS|farreja02|   PRO|  NL|  3|  9|  3|  4|  2|  0|  0|  0|  1|null|  0|  0|  0|null|null|null|null|null|\n",
      "|  1884|   WS|forstto01|   NY4|  AA|  1|  3|  0|  0|  0|  0|  0|  0|  0|null|  0|  1|  0|null|null|null|null|null|\n",
      "|  1884|   WS|gilliba01|   PRO|  NL|  3|  9|  3|  4|  2|  0|  0|  2|  0|null|  0|  1|  0|null|null|null|null|null|\n",
      "|  1884|   WS|hinespa01|   PRO|  NL|  3|  8|  5|  2|  0|  0|  0|  1|  2|null|  3|  0|  0|null|null|null|null|null|\n",
      "|  1884|   WS|irwinar01|   PRO|  NL|  3|  9|  3|  2|  0|  1|  0|  2|  0|null|  0|  2|  0|null|null|null|null|null|\n",
      "|  1884|   WS|keefeti01|   NY4|  AA|  2|  5|  0|  1|  0|  0|  0|  0|  0|null|  0|  4|  0|null|null|null|null|null|\n",
      "|  1884|   WS|kenneed01|   NY4|  AA|  3|  7|  0|  0|  0|  0|  0|  0|  0|null|  0|  2|  0|null|null|null|null|null|\n",
      "|  1884|   WS|nelsoca01|   NY4|  AA|  3| 10|  0|  1|  0|  0|  0|  0|  0|null|  0|  1|  0|null|null|null|null|null|\n",
      "|  1884|   WS|  orrda01|   NY4|  AA|  3|  9|  0|  1|  0|  0|  0|  0|  0|null|  0|  0|  0|null|null|null|null|null|\n",
      "|  1884|   WS|radboch01|   PRO|  NL|  3| 10|  1|  1|  0|  0|  0|  2|  0|null|  1|  3|  0|null|null|null|null|null|\n",
      "|  1884|   WS|radfopa01|   PRO|  NL|  3|  7|  1|  0|  0|  0|  0|  1|  0|null|  0|  1|  0|null|null|null|null|null|\n",
      "|  1884|   WS|reipsch01|   NY4|  AA|  2|  5|  1|  0|  0|  0|  0|  0|  0|null|  0|  1|  0|null|null|null|null|null|\n",
      "|  1884|   WS|rosemch01|   NY4|  AA|  3|  9|  1|  3|  0|  0|  0|  1|  0|null|  0|  1|  0|null|null|null|null|null|\n",
      "|  1884|   WS|startjo01|   PRO|  NL|  3| 10|  0|  1|  0|  0|  0|  1|  0|null|  0|  2|  0|null|null|null|null|null|\n",
      "|  1884|   WS| troyda01|   NY4|  AA|  2|  5|  0|  1|  0|  0|  0|  1|  0|null|  0|  1|  0|null|null|null|null|null|\n",
      "+------+-----+---------+------+----+---+---+---+---+---+---+---+---+---+----+---+---+---+----+----+----+----+----+\n",
      "only showing top 20 rows\n",
      "\n"
     ]
    }
   ],
   "source": [
    "df1.show()"
   ]
  },
  {
   "cell_type": "code",
   "execution_count": 25,
   "metadata": {},
   "outputs": [
    {
     "data": {
      "text/plain": [
       "<matplotlib.axes._subplots.AxesSubplot at 0x7feb6fe6a278>"
      ]
     },
     "execution_count": 25,
     "metadata": {},
     "output_type": "execute_result"
    },
    {
     "data": {
      "image/png": "[encoded data removed]",
      "text/plain": [
       "<Figure size 432x288 with 1 Axes>"
      ]
     },
     "metadata": {
      "needs_background": "light"
     },
     "output_type": "display_data"
    }
   ],
   "source": [
    "df[df.lgID == 'AL'].groupBy('round').sum('H').toPandas().plot(\n",
    "x = 'round',\n",
    "y = 'sum(H)',\n",
    "kind = \"bar\"\n",
    ")"
   ]
  },
  {
   "cell_type": "code",
   "execution_count": 32,
   "metadata": {},
   "outputs": [
    {
     "data": {
      "text/plain": [
       "<matplotlib.axes._subplots.AxesSubplot at 0x7feb6fd61c18>"
      ]
     },
     "execution_count": 32,
     "metadata": {},
     "output_type": "execute_result"
    },
    {
     "data": {
      "image/png": "[encoded data removed]",
      "text/plain": [
       "<Figure size 432x288 with 1 Axes>"
      ]
     },
     "metadata": {
      "needs_background": "light"
     },
     "output_type": "display_data"
    }
   ],
   "source": [
    "df[df.lgID == 'AL'].groupBy('GIDP').sum('R').toPandas().plot(\n",
    "x = 'GIDP',\n",
    "y = 'sum(R)',\n",
    "kind = \"scatter\"\n",
    ")"
   ]
  }
 ],
 "metadata": {
  "kernelspec": {
   "display_name": "Python 3",
   "language": "python",
   "name": "python3"
  },
  "language_info": {
   "codemirror_mode": {
    "name": "ipython",
    "version": 3
   },
   "file_extension": ".py",
   "mimetype": "text/x-python",
   "name": "python",
   "nbconvert_exporter": "python",
   "pygments_lexer": "ipython3",
   "version": "3.7.9"
  }
 },
 "nbformat": 4,
 "nbformat_minor": 2
}
